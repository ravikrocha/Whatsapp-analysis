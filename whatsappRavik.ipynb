{
 "cells": [
  {
   "cell_type": "code",
   "execution_count": 26,
   "metadata": {},
   "outputs": [],
   "source": [
    "import pandas as pd\n",
    "import numpy as np\n",
    "import spacy\n",
    "import re\n",
    "from datetime import datetime\n",
    "import matplotlib.pyplot as plt\n",
    "import seaborn as sns"
   ]
  },
  {
   "cell_type": "code",
   "execution_count": 27,
   "metadata": {},
   "outputs": [],
   "source": [
    "with open('Conversa do WhatsApp com [CPF] ENGLISH.txt') as f:\n",
    "    df = f.readlines()"
   ]
  },
  {
   "cell_type": "code",
   "execution_count": 28,
   "metadata": {},
   "outputs": [],
   "source": [
    "pattern1 = r'\\d{2}/\\d{2}/\\d{4}\\s\\d{2}:\\d{2}'\n",
    "pattern2 = r'(\\(|\\+)*\\d{1,3}\\)* \\(*\\d{2,5}\\)* \\d{2,7}((\\-|\\s)\\d{2,5})*((\\-|\\s)\\d{2,5})*|[a-zA-Z]+'\n",
    "pattern3 = r': (\\w|\\s|\\W){2,}'\n",
    "patternnumber = r'\\s\\+\\d*\\s(\\(|\\d)*(\\s|\\))(\\d|\\s)*(\\s|\\-)\\d*'"
   ]
  },
  {
   "cell_type": "code",
   "execution_count": 29,
   "metadata": {},
   "outputs": [],
   "source": [
    "date = re.compile(pattern1)"
   ]
  },
  {
   "cell_type": "code",
   "execution_count": 30,
   "metadata": {},
   "outputs": [],
   "source": [
    "datelist = []\n",
    "userlist = []\n",
    "messagelist = []\n",
    "banlist = []\n",
    "leftlist = []\n",
    "invlist= []\n",
    "linklist = []\n",
    "j=0\n",
    "for i in range(len(df)):\n",
    "    if 'entrou usando o link de convite' in df[i]:\n",
    "        linklist.append(df[i])\n",
    "    try:\n",
    "        date.match(df[i]).start() == 0\n",
    "        searchuser = re.search(pattern2,df[i]).group()\n",
    "        searchmessage = re.search(pattern3, df[i]).group()[2:].lower().rstrip('\\n')\n",
    "        userlist.append(searchuser)\n",
    "        messagelist.append(searchmessage)\n",
    "        datelist.append(df[i][0:16])\n",
    "    \n",
    "    except AttributeError:\n",
    "        if 'removeu' in df[i]:\n",
    "            banlist.append(df[i])\n",
    "        if 'saiu' in df[i]:\n",
    "            leftlist.append(df[i])\n",
    "        if 'adicionou' in df[i]:\n",
    "            invlist.append(df[i])\n",
    "        pass\n",
    " "
   ]
  },
  {
   "cell_type": "code",
   "execution_count": 31,
   "metadata": {},
   "outputs": [],
   "source": [
    "zlist = list(zip(datelist,userlist,messagelist))"
   ]
  },
  {
   "cell_type": "code",
   "execution_count": 32,
   "metadata": {},
   "outputs": [],
   "source": [
    "dataframewhats = pd.DataFrame(zlist, columns = ['Time' , 'User', 'Messages']) "
   ]
  },
  {
   "cell_type": "code",
   "execution_count": 33,
   "metadata": {},
   "outputs": [],
   "source": [
    "dataframewhats['Time'] = dataframewhats['Time'].apply(lambda x: datetime.strptime(x,\"%d/%m/%Y %H:%M\"))"
   ]
  },
  {
   "cell_type": "code",
   "execution_count": 34,
   "metadata": {},
   "outputs": [],
   "source": [
    "dataframewhats['Messages'] = dataframewhats['Messages'].apply(lambda x: np.nan if len(str(x))==0 else x)"
   ]
  },
  {
   "cell_type": "code",
   "execution_count": 35,
   "metadata": {},
   "outputs": [
    {
     "data": {
      "text/plain": [
       "False"
      ]
     },
     "execution_count": 35,
     "metadata": {},
     "output_type": "execute_result"
    }
   ],
   "source": [
    "dataframewhats.isnull().values.any()"
   ]
  },
  {
   "cell_type": "markdown",
   "metadata": {},
   "source": [
    "## File Table"
   ]
  },
  {
   "cell_type": "code",
   "execution_count": 36,
   "metadata": {},
   "outputs": [],
   "source": [
    "datefile = []\n",
    "userfile = []\n",
    "for i in range(len(dataframewhats)):\n",
    "    if 'oculto' in dataframewhats['Messages'][i]:\n",
    "        datefile.append(dataframewhats['Time'][i])\n",
    "        userfile.append(dataframewhats['User'][i])"
   ]
  },
  {
   "cell_type": "code",
   "execution_count": 37,
   "metadata": {},
   "outputs": [],
   "source": [
    "zlist2 = list(zip(datefile,userfile))"
   ]
  },
  {
   "cell_type": "code",
   "execution_count": 38,
   "metadata": {},
   "outputs": [],
   "source": [
    "dataframefile =  pd.DataFrame(zlist2, columns = ['Time' , 'User']) "
   ]
  },
  {
   "cell_type": "markdown",
   "metadata": {},
   "source": [
    "## Ban Table"
   ]
  },
  {
   "cell_type": "code",
   "execution_count": 39,
   "metadata": {},
   "outputs": [],
   "source": [
    "cban = []\n",
    "dateban = []\n",
    "for mes in banlist:\n",
    "    x = re.search(r'(\\w{3,}\\s)*\\w{3,} removeu', mes).group()\n",
    "    y = x.replace(' removeu','')\n",
    "    cban.append(y)\n",
    "    dateban.append(mes[0:16])"
   ]
  },
  {
   "cell_type": "code",
   "execution_count": 40,
   "metadata": {},
   "outputs": [],
   "source": [
    "uban = []\n",
    "\n",
    "for mes in banlist:\n",
    "    x = re.search(r'removeu (\\(|\\+)*\\d{1,3}\\)* \\(*\\d{2,5}\\)* \\d{2,7}((\\-|\\s)\\d{2,5})*((\\-|\\s)\\d{2,5})*', mes) or re.search(r'removeu [a-zA-Z]{3,}', mes)\n",
    "    y = x.group()\n",
    "    z = y.replace('removeu ','')\n",
    "    uban.append(z)"
   ]
  },
  {
   "cell_type": "code",
   "execution_count": 41,
   "metadata": {},
   "outputs": [],
   "source": [
    "zlist1 = list(zip(dateban,cban,uban))"
   ]
  },
  {
   "cell_type": "code",
   "execution_count": 42,
   "metadata": {},
   "outputs": [],
   "source": [
    "dataframewhatsban = pd.DataFrame(zlist1, columns = ['Time','Coordinator', 'User']) "
   ]
  },
  {
   "cell_type": "code",
   "execution_count": 43,
   "metadata": {},
   "outputs": [],
   "source": [
    "dataframewhatsban['Time'] = dataframewhatsban['Time'].apply(lambda x: datetime.strptime(x,\"%d/%m/%Y %H:%M\"))"
   ]
  },
  {
   "cell_type": "code",
   "execution_count": 44,
   "metadata": {},
   "outputs": [],
   "source": [
    "dataframewhatsban['Coordinator'] = dataframewhatsban['Coordinator'].apply(lambda x: 'Ravik' if x == 'Você' else x)"
   ]
  },
  {
   "cell_type": "code",
   "execution_count": 45,
   "metadata": {},
   "outputs": [
    {
     "data": {
      "text/plain": [
       "False"
      ]
     },
     "execution_count": 45,
     "metadata": {},
     "output_type": "execute_result"
    }
   ],
   "source": [
    "dataframewhats.isnull().values.any()"
   ]
  },
  {
   "cell_type": "markdown",
   "metadata": {},
   "source": [
    "## Left Table"
   ]
  },
  {
   "cell_type": "code",
   "execution_count": 46,
   "metadata": {},
   "outputs": [],
   "source": [
    "dateleft = []\n",
    "userleft = []\n",
    "for mes in leftlist:\n",
    "    dateleft.append(mes[0:16])\n",
    "    x = re.search('(\\(|\\+)*\\d{1,3}\\)* \\(*\\d{2,5}\\)* \\d{2,7}((\\-|\\s)\\d{2,5})*((\\-|\\s)\\d{2,5})*|[a-zA-Z]+', mes)\n",
    "    y = x.group()\n",
    "    userleft.append(y)"
   ]
  },
  {
   "cell_type": "code",
   "execution_count": 47,
   "metadata": {},
   "outputs": [],
   "source": [
    "zlist3 = list(zip(dateleft,userleft))"
   ]
  },
  {
   "cell_type": "code",
   "execution_count": 48,
   "metadata": {},
   "outputs": [],
   "source": [
    "dataframeleft = pd.DataFrame(zlist3, columns = ['Time' , 'User']) "
   ]
  },
  {
   "cell_type": "code",
   "execution_count": 49,
   "metadata": {},
   "outputs": [],
   "source": [
    "dataframeleft['Time'] = dataframeleft['Time'].apply(lambda x: datetime.strptime(x,\"%d/%m/%Y %H:%M\"))"
   ]
  },
  {
   "cell_type": "markdown",
   "metadata": {},
   "source": [
    "## Tagging Table"
   ]
  },
  {
   "cell_type": "code",
   "execution_count": 50,
   "metadata": {},
   "outputs": [],
   "source": [
    "usertagged = []\n",
    "datetagged = []\n",
    "for i in range(len(dataframewhats)):\n",
    "    if '@' in dataframewhats['Messages'][i]:\n",
    "        try:\n",
    "            x = re.search(r'@\\d{3,}', dataframewhats['Messages'][i]).group()\n",
    "            usertagged.append(x)\n",
    "            datetagged.append(dataframewhats['Time'][i])\n",
    "        except:\n",
    "            pass"
   ]
  },
  {
   "cell_type": "code",
   "execution_count": 51,
   "metadata": {},
   "outputs": [],
   "source": [
    "zlist4 = list(zip(datetagged,usertagged))"
   ]
  },
  {
   "cell_type": "code",
   "execution_count": 52,
   "metadata": {},
   "outputs": [],
   "source": [
    "dataframetagged = pd.DataFrame(zlist4, columns = ['Time','User']) "
   ]
  },
  {
   "cell_type": "code",
   "execution_count": 53,
   "metadata": {},
   "outputs": [],
   "source": [
    "# it's not necessary making any conversion to timedate format"
   ]
  },
  {
   "cell_type": "markdown",
   "metadata": {},
   "source": [
    "## Adding new colunms"
   ]
  },
  {
   "cell_type": "code",
   "execution_count": 58,
   "metadata": {},
   "outputs": [],
   "source": [
    "dataframewhats['Day_of_Week'] = dataframewhats['Time'].apply(lambda x: x.strftime('%a'))"
   ]
  },
  {
   "cell_type": "code",
   "execution_count": 59,
   "metadata": {},
   "outputs": [],
   "source": [
    "dataframewhats['Date'] = dataframewhats['Time'].apply(lambda x: x.strftime('%b %Y'))"
   ]
  },
  {
   "cell_type": "code",
   "execution_count": 60,
   "metadata": {},
   "outputs": [],
   "source": [
    "dataframewhats['Year'] = dataframewhats['Time'].apply(lambda x: x.year)"
   ]
  },
  {
   "cell_type": "markdown",
   "metadata": {},
   "source": [
    "## People invited Table"
   ]
  },
  {
   "cell_type": "code",
   "execution_count": 69,
   "metadata": {},
   "outputs": [],
   "source": [
    "cinv = []\n",
    "dateinv = []\n",
    "useradd = []\n",
    "for mes in invlist:\n",
    "    if re.search(patternnumber,mes):    #use re.search() instead of re.match()\n",
    "        for i in re.finditer(patternnumber, mes):\n",
    "            x = i.group(0)\n",
    "            useradd.append(x.replace('\\n','').replace(' +','+'))\n",
    "            y = re.search(pattern2, mes).group()\n",
    "            z = y.replace(' adicionou','')\n",
    "            cinv.append(z)\n",
    "            dateinv.append(mes[0:16])\n",
    "    else:\n",
    "        w = re.search(r'adicionou\\s[a-zA-Z]{1,}', mes)\n",
    "        useradd.append(w.group(0).replace('adicionou ',''))\n",
    "        dateinv.append(mes[0:16])\n",
    "        k = w.group(0).replace('adicionou ','')\n",
    "        cinv.append(k)"
   ]
  },
  {
   "cell_type": "code",
   "execution_count": 70,
   "metadata": {},
   "outputs": [],
   "source": [
    "zlist5 = list(zip(dateinv,cinv,useradd))"
   ]
  },
  {
   "cell_type": "code",
   "execution_count": 71,
   "metadata": {},
   "outputs": [],
   "source": [
    "dataframewhatsinvite = pd.DataFrame(zlist5, columns = ['Time','Coordinator', 'User']) "
   ]
  },
  {
   "cell_type": "code",
   "execution_count": 72,
   "metadata": {},
   "outputs": [],
   "source": [
    "dataframewhatsinvite['Coordinator'] = dataframewhatsinvite['Coordinator'].apply(lambda x: 'Ravik' if x == 'Voc' else x)"
   ]
  },
  {
   "cell_type": "markdown",
   "metadata": {},
   "source": [
    "## People joining by the link"
   ]
  },
  {
   "cell_type": "code",
   "execution_count": 73,
   "metadata": {},
   "outputs": [],
   "source": [
    "userlink = []\n",
    "datelink = []\n",
    "for mes in linklist:\n",
    "    datelink.append(mes[0:16])\n",
    "    x = re.search(r'\\u200e\\+\\d*\\s*\\(*\\d*\\)*\\s*\\d*-*\\d*\\s*\\d*\\s*\\d*\\s*\\d*\\-*\\d*',mes) or re.search('\\u200e[a-zA-Z]{1,}',mes)\n",
    "    y = x.group(0).replace('\\u200e','').rstrip()\n",
    "    userlink.append(y)"
   ]
  },
  {
   "cell_type": "code",
   "execution_count": 74,
   "metadata": {},
   "outputs": [],
   "source": [
    "zlist6 = list(zip(datelink,userlink))"
   ]
  },
  {
   "cell_type": "code",
   "execution_count": 75,
   "metadata": {},
   "outputs": [],
   "source": [
    "dataframewhatslink = pd.DataFrame(zlist6, columns = ['Time' , 'User']) "
   ]
  },
  {
   "cell_type": "code",
   "execution_count": 96,
   "metadata": {},
   "outputs": [],
   "source": [
    "dataframewhatslink['User'] = dataframewhatslink['User'].apply(lambda x: 'Joao Paulo' if x == 'Joao' else x)"
   ]
  },
  {
   "cell_type": "markdown",
   "metadata": {},
   "source": [
    "## Region Table"
   ]
  },
  {
   "cell_type": "code",
   "execution_count": 76,
   "metadata": {},
   "outputs": [],
   "source": [
    "import phonenumbers\n",
    "from phonenumbers import geocoder\n",
    "from phonenumbers.phonenumberutil import region_code_for_country_code\n",
    "import pycountry"
   ]
  },
  {
   "cell_type": "code",
   "execution_count": 77,
   "metadata": {},
   "outputs": [],
   "source": [
    "parse_country = []\n",
    "for user in dataframewhats['User']:\n",
    "    try:\n",
    "        x = phonenumbers.parse(user)\n",
    "        parse_country.append(x)\n",
    "\n",
    "    except:\n",
    "        parse_country.append(np.nan)"
   ]
  },
  {
   "cell_type": "code",
   "execution_count": 78,
   "metadata": {},
   "outputs": [],
   "source": [
    "dataframewhats['parse_country'] = parse_country"
   ]
  },
  {
   "cell_type": "code",
   "execution_count": 79,
   "metadata": {},
   "outputs": [],
   "source": [
    "code_country_parse = []\n",
    "for c in dataframewhats['parse_country']:\n",
    "    try:\n",
    "        x = region_code_for_country_code(c.country_code)\n",
    "        code_country_parse.append(x)\n",
    "    except:\n",
    "        code_country_parse.append(np.nan)"
   ]
  },
  {
   "cell_type": "code",
   "execution_count": 80,
   "metadata": {},
   "outputs": [],
   "source": [
    "dataframewhats['code_country_parse'] = code_country_parse"
   ]
  },
  {
   "cell_type": "code",
   "execution_count": 81,
   "metadata": {},
   "outputs": [],
   "source": [
    "dataframewhats['code_country_parse'].fillna('BR',inplace=True)"
   ]
  },
  {
   "cell_type": "code",
   "execution_count": 82,
   "metadata": {},
   "outputs": [],
   "source": [
    "country_name = []\n",
    "for c in dataframewhats['code_country_parse']:\n",
    "    x = pycountry.countries.get(alpha_2=c).name\n",
    "    country_name.append(x)\n",
    "    "
   ]
  },
  {
   "cell_type": "code",
   "execution_count": 83,
   "metadata": {},
   "outputs": [],
   "source": [
    "dataframewhats['country_name'] = country_name"
   ]
  },
  {
   "cell_type": "code",
   "execution_count": 84,
   "metadata": {},
   "outputs": [],
   "source": [
    "codebrazil = []\n",
    "for r in dataframewhats['User']:\n",
    "    if '+55' in r:\n",
    "        x = re.search(r'\\+55\\s\\d{2}',r).group().replace('+55 ','')\n",
    "        codebrazil.append(x)\n",
    "    elif re.search(r'[a-zA-Z]',r):\n",
    "        codebrazil.append('85')\n",
    "    else:\n",
    "        codebrazil.append(np.nan)"
   ]
  },
  {
   "cell_type": "code",
   "execution_count": 85,
   "metadata": {},
   "outputs": [],
   "source": [
    "dataframewhats['codebrazil'] = codebrazil"
   ]
  },
  {
   "cell_type": "markdown",
   "metadata": {},
   "source": [
    "## Sentiment Analysis"
   ]
  },
  {
   "cell_type": "code",
   "execution_count": 86,
   "metadata": {},
   "outputs": [
    {
     "name": "stderr",
     "output_type": "stream",
     "text": [
      "[nltk_data] Downloading package vader_lexicon to\n",
      "[nltk_data]     /home/ravik/nltk_data...\n",
      "[nltk_data]   Package vader_lexicon is already up-to-date!\n"
     ]
    }
   ],
   "source": [
    "import nltk\n",
    "from nltk.sentiment.vader import SentimentIntensityAnalyzer\n",
    "nltk.download('vader_lexicon')\n",
    "\n",
    "sid = SentimentIntensityAnalyzer()"
   ]
  },
  {
   "cell_type": "code",
   "execution_count": 87,
   "metadata": {},
   "outputs": [],
   "source": [
    "dataframewhats['scores'] = dataframewhats['Messages'].apply(lambda x: sid.polarity_scores(x))"
   ]
  },
  {
   "cell_type": "code",
   "execution_count": 88,
   "metadata": {},
   "outputs": [],
   "source": [
    "dataframewhats['Compound'] = dataframewhats['scores'].apply(lambda x: x['compound'])"
   ]
  },
  {
   "cell_type": "code",
   "execution_count": 984,
   "metadata": {},
   "outputs": [],
   "source": [
    "dataframewhats['comp_score'] = dataframewhats['Compound'].apply(lambda x: 'pos' if x >=0 else 'neg')"
   ]
  },
  {
   "cell_type": "markdown",
   "metadata": {},
   "source": [
    "## Export Data"
   ]
  },
  {
   "cell_type": "code",
   "execution_count": 62,
   "metadata": {},
   "outputs": [],
   "source": [
    "dataframefile.to_csv('dataframefiletotableau.csv')"
   ]
  },
  {
   "cell_type": "code",
   "execution_count": 61,
   "metadata": {},
   "outputs": [],
   "source": [
    "dataframewhats.to_csv('WhatsappFinaltotableauComplete.csv')"
   ]
  },
  {
   "cell_type": "code",
   "execution_count": 63,
   "metadata": {},
   "outputs": [],
   "source": [
    "dataframetagged.to_csv('dataframetaggedtotableau.csv')"
   ]
  },
  {
   "cell_type": "code",
   "execution_count": 64,
   "metadata": {},
   "outputs": [],
   "source": [
    "dataframewhatsban.to_csv('dataframebantotableau.csv')"
   ]
  },
  {
   "cell_type": "code",
   "execution_count": 66,
   "metadata": {},
   "outputs": [],
   "source": [
    "dataframeleft.to_csv('dataframelefttotableau.csv')"
   ]
  },
  {
   "cell_type": "code",
   "execution_count": 89,
   "metadata": {},
   "outputs": [],
   "source": [
    "dataframewhatslink.to_csv('dataframelinktotableau.csv')"
   ]
  },
  {
   "cell_type": "code",
   "execution_count": 90,
   "metadata": {},
   "outputs": [],
   "source": [
    "dataframewhatsinvite.to_csv('dataframeinvitetotableau.csv')"
   ]
  }
 ],
 "metadata": {
  "kernelspec": {
   "display_name": "Python 3",
   "language": "python",
   "name": "python3"
  },
  "language_info": {
   "codemirror_mode": {
    "name": "ipython",
    "version": 3
   },
   "file_extension": ".py",
   "mimetype": "text/x-python",
   "name": "python",
   "nbconvert_exporter": "python",
   "pygments_lexer": "ipython3",
   "version": "3.8.5"
  }
 },
 "nbformat": 4,
 "nbformat_minor": 4
}
